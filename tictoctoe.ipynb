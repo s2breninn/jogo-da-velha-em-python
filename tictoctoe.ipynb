{
 "cells": [
  {
   "cell_type": "markdown",
   "id": "10106519",
   "metadata": {},
   "source": [
    "# Jogo da velha  \n",
    "JOGO UTILIZANDO POO"
   ]
  },
  {
   "cell_type": "markdown",
   "id": "dfbbf913",
   "metadata": {},
   "source": [
    "Importando as libs necessárias"
   ]
  },
  {
   "cell_type": "code",
   "execution_count": 11,
   "id": "58df9775",
   "metadata": {},
   "outputs": [],
   "source": [
    "import random\n",
    "import os"
   ]
  },
  {
   "cell_type": "markdown",
   "id": "136163a3",
   "metadata": {},
   "source": [
    "Modelagem da classe"
   ]
  },
  {
   "cell_type": "markdown",
   "id": "70359255",
   "metadata": {},
   "source": [
    "Para modelagem do tabuleiro foi utilizado três listas dentro de uma matriz  \n",
    "Estrutura ilustrada para modelagem do tabuleiro do jogo:  \n",
    "    ![image](https://github.com/s2breninn/jogo-da-velha-em-python/assets/89087720/43660bf8-dfa4-48f2-bfd3-5863cd014862)"
   ]
  },
  {
   "attachments": {
    "image.png": {
     "image/png": "[encoded data removed]"
    }
   },
   "cell_type": "markdown",
   "id": "9058490d",
   "metadata": {},
   "source": [
    "### Descrições das Funções\n",
    "\n",
    "1. __`print_board()`__:  \n",
    "\n",
    "    Esta função imprime o tabuleiro vazio, sem nenhuma marcação.  \n",
    "    ![image.png](attachment:image.png)  \n",
    "  \n",
    "2. __`reset()`__:  \n",
    "\n",
    "    Esta função redefine o tabuleiro, removendo qualquer jogada anteriormente feita e restaurando-o para o estado inicial. Utiliza três listas aninhadas para representar a estrutura do tabuleiro.  \n",
    "\n",
    "3. __`check_win_or_draw()`__:  \n",
    "\n",
    "    Esta função verifica se há um vencedor utilizando oito condições diferentes, abrangendo vitórias verticais, horizontais e diagonais. Se um jogador vencer, a função exibe uma mensagem indicando o vencedor. Caso contrário, se não houver vencedor, verifica se ocorreu um empate.  \n",
    "    \n",
    "4. __`get_player_move()`__:  \n",
    "\n",
    "    Esta função solicita que o jogador faça sua jogada, verificando se as coordenadas inseridas são válidas. Se as coordenadas forem inválidas (maiores que 2 ou menores que 0), uma mensagem será exibida ao jogador. Se a posição já estiver ocupada, a função informará que a posição já foi preenchida. Além disso, se forem inseridos caracteres não inteiros, uma mensagem será exibida pedindo para digitar apenas números.  \n",
    "    \n",
    "5. __`make_move()`__:  \n",
    "\n",
    "    A função make_move percorre todas as listas da matriz utilizando uma list comprehension para determinar as posições vazias no tabuleiro. Em seguida, utilizando a biblioteca random e o método choice(), a função seleciona aleatoriamente uma posição para o computador jogar.\n",
    "    \n",
    "6. __Loop Principal__:\n",
    "\n",
    "    O loop principal controla o fluxo do jogo. Ele limpa a tela do console, imprime o tabuleiro, e então inicia outro loop que continua até que o jogo termine. Dentro desse loop, o jogador faz sua jogada, o jogo verifica se houve um vencedor ou empate, e então é a vez do computador fazer sua jogada. Após cada jogada, o tabuleiro é impresso novamente e o jogo verifica se houve um vencedor ou empate. Após o fim do jogo, o jogador é solicitado a digitar '1' para sair do jogo ou qualquer outra tecla para jogar novamente. Se '1' for digitado, o loop principal é encerrado, caso contrário, o tabuleiro é redefinido para uma nova partida.\n"
   ]
  },
  {
   "cell_type": "code",
   "execution_count": 1,
   "id": "3a561236",
   "metadata": {},
   "outputs": [
    {
     "name": "stdout",
     "output_type": "stream",
     "text": [
      "\u001b[H\u001b[2J\n",
      "     |       |    \n",
      "--------------------\n",
      "     |       |    \n",
      "--------------------\n",
      "     |       |    \n",
      "Digite a linha do seu próximo lance: 1\n",
      "Digite a coluna do seu próximo lance: 1\n",
      "\n",
      "     |       |    \n",
      "--------------------\n",
      "     |   X   |    \n",
      "--------------------\n",
      "     |   O   |    \n",
      "Digite a linha do seu próximo lance: 0\n",
      "Digite a coluna do seu próximo lance: 1\n",
      "\n",
      "     |   X   |    \n",
      "--------------------\n",
      "     |   X   |    \n",
      "--------------------\n",
      " O   |   O   |    \n",
      "Digite a linha do seu próximo lance: 0\n",
      "Digite a coluna do seu próximo lance: 0\n",
      "\n",
      " X   |   X   |    \n",
      "--------------------\n",
      "     |   X   |   O\n",
      "--------------------\n",
      " O   |   O   |    \n",
      "Digite a linha do seu próximo lance: 2\n",
      "Digite a coluna do seu próximo lance: 2\n",
      "X venceu\n",
      "Digite 1 para sair do jogo ou tecle qualquer tecla para jogar novamente: 1\n"
     ]
    }
   ],
   "source": [
    "import random\n",
    "import os\n",
    "\n",
    "class TicTacToe:\n",
    "    def __init__(self):\n",
    "        self.reset()\n",
    "\n",
    "    def print_board(self):\n",
    "        print('')\n",
    "        print(' ' + self.board[0][0] + '   |   ' + self.board[0][1] + '   |   ' + self.board[0][2])\n",
    "        print('--------------------')\n",
    "        print(' ' + self.board[1][0] + '   |   ' + self.board[1][1] + '   |   ' + self.board[1][2])\n",
    "        print('--------------------')\n",
    "        print(' ' + self.board[2][0] + '   |   ' + self.board[2][1] + '   |   ' + self.board[2][2])\n",
    "\n",
    "    def reset(self):\n",
    "        self.board = [[' ', ' ', ' '], [' ', ' ', ' '], [' ', ' ', ' ']]\n",
    "        self.done = ''\n",
    "\n",
    "    def check_win_or_draw(self):\n",
    "        for i in ['X', 'O']:\n",
    "            # Horizontais, Verticais e Diagonais\n",
    "            if (self.board[0][0] == self.board[0][1] == self.board[0][2] == i or\n",
    "                self.board[1][0] == self.board[1][1] == self.board[1][2] == i or\n",
    "                self.board[2][0] == self.board[2][1] == self.board[2][2] == i or\n",
    "                self.board[0][0] == self.board[1][0] == self.board[2][0] == i or\n",
    "                self.board[0][1] == self.board[1][1] == self.board[2][1] == i or\n",
    "                self.board[0][2] == self.board[1][2] == self.board[2][2] == i or\n",
    "                self.board[0][0] == self.board[1][1] == self.board[2][2] == i or\n",
    "                self.board[2][0] == self.board[1][1] == self.board[0][2] == i):\n",
    "                self.done = i\n",
    "                print(i + ' venceu')\n",
    "                return\n",
    "\n",
    "        # Empate\n",
    "        if all(self.board[i][j] != ' ' for i in range(3) for j in range(3)):\n",
    "            self.done = 'e'\n",
    "            print('Empate!')\n",
    "\n",
    "    def get_player_move(self):\n",
    "        invalid_move = True\n",
    "\n",
    "        while invalid_move:\n",
    "            try:\n",
    "                x = int(input('Digite a linha do seu próximo lance: '))\n",
    "                y = int(input('Digite a coluna do seu próximo lance: '))\n",
    "\n",
    "                if x < 0 or x > 2 or y < 0 or y > 2:\n",
    "                    print('Coordenadas inválidas.')\n",
    "                    continue\n",
    "\n",
    "                if self.board[x][y] != ' ':\n",
    "                    print('Posição já preenchida')\n",
    "                    continue\n",
    "\n",
    "            except ValueError:\n",
    "                print('Digite apenas números inteiros.')\n",
    "                continue\n",
    "\n",
    "            invalid_move = False\n",
    "        self.board[x][y] = 'X'\n",
    "\n",
    "    def make_move(self):\n",
    "        list_moves = [(i, j) for i in range(3) for j in range(3) if self.board[i][j] == ' ']\n",
    "\n",
    "        if list_moves:\n",
    "            x, y = random.choice(list_moves)\n",
    "            self.board[x][y] = 'O'\n",
    "\n",
    "tictactoe = TicTacToe()\n",
    "\n",
    "while True:\n",
    "    os.system('cls' if os.name == 'nt' else 'clear')\n",
    "    tictactoe.print_board()\n",
    "\n",
    "    while tictactoe.done == '':\n",
    "        tictactoe.get_player_move()\n",
    "        tictactoe.check_win_or_draw()\n",
    "        if tictactoe.done:\n",
    "            break\n",
    "        tictactoe.make_move()\n",
    "        tictactoe.print_board()\n",
    "        tictactoe.check_win_or_draw()\n",
    "\n",
    "    play_again = input('Digite 1 para sair do jogo ou tecle qualquer tecla para jogar novamente: ')\n",
    "    if play_again == '1':\n",
    "        break\n",
    "    else:\n",
    "        tictactoe.reset()\n"
   ]
  },
  {
   "cell_type": "code",
   "execution_count": null,
   "id": "4a92247e",
   "metadata": {},
   "outputs": [],
   "source": []
  }
 ],
 "metadata": {
  "kernelspec": {
   "display_name": "Python 3 (ipykernel)",
   "language": "python",
   "name": "python3"
  },
  "language_info": {
   "codemirror_mode": {
    "name": "ipython",
    "version": 3
   },
   "file_extension": ".py",
   "mimetype": "text/x-python",
   "name": "python",
   "nbconvert_exporter": "python",
   "pygments_lexer": "ipython3",
   "version": "3.11.5"
  }
 },
 "nbformat": 4,
 "nbformat_minor": 5
}
